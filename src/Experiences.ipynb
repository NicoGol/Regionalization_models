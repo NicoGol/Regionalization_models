{
 "cells": [
  {
   "cell_type": "code",
   "execution_count": 1,
   "id": "482659bd",
   "metadata": {},
   "outputs": [],
   "source": [
    "from data import *\n",
    "from Cluster import *\n",
    "from redcap import *\n",
    "import time as t\n",
    "import pygeoda as pg\n",
    "import pickle as pkl"
   ]
  },
  {
   "cell_type": "markdown",
   "id": "4e5eca06",
   "metadata": {},
   "source": [
    "## Run only once to save data from the whole country"
   ]
  },
  {
   "cell_type": "code",
   "execution_count": 2,
   "id": "523cb349",
   "metadata": {},
   "outputs": [
    {
     "name": "stdout",
     "output_type": "stream",
     "text": [
      "start data preparation\n"
     ]
    },
    {
     "name": "stderr",
     "output_type": "stream",
     "text": [
      "C:\\Users\\ngolenvaux\\Documents\\Doctorat\\Regionalization\\Regionalization_models\\src\\data.py:10: SettingWithCopyWarning: \n",
      "A value is trying to be set on a copy of a slice from a DataFrame.\n",
      "Try using .loc[row_indexer,col_indexer] = value instead\n",
      "\n",
      "See the caveats in the documentation: https://pandas.pydata.org/pandas-docs/stable/user_guide/indexing.html#returning-a-view-versus-a-copy\n",
      "  df_2004['bush_votes_perc'] = df_2004['candidatevotes'] / df_2004['totalvotes']\n"
     ]
    },
    {
     "name": "stdout",
     "output_type": "stream",
     "text": [
      "end data preparation 42.52929496765137\n",
      "number of nodes: 3083\n"
     ]
    }
   ],
   "source": [
    "print('start data preparation')\n",
    "t1 = t.time()\n",
    "USA_vote_2004 = percentage_bush_2004()\n",
    "t2 = t.time()\n",
    "print('end data preparation '+ str(t2-t1))\n",
    "print('number of nodes: '+ str(len(USA_vote_2004)))\n",
    "USA_vote_2004.to_pickle('../data/USA_vote_2004.pkl')"
   ]
  },
  {
   "cell_type": "code",
   "execution_count": 3,
   "id": "7f78e809",
   "metadata": {},
   "outputs": [
    {
     "name": "stdout",
     "output_type": "stream",
     "text": [
      "start first_order\n",
      "end first_order 1.4849398136138916\n",
      "start full_order\n",
      "end full_order 2108.0296964645386\n",
      "start sort full order\n",
      "stop sort full order 0.0\n"
     ]
    }
   ],
   "source": [
    "graph = Graph(USA_vote_2004.set_index('county_fips',drop=True),['bush_votes_perc'],talk=True)"
   ]
  },
  {
   "cell_type": "code",
   "execution_count": 4,
   "id": "9be87d4a",
   "metadata": {},
   "outputs": [],
   "source": [
    "FullO_file = open('../data/USA_vote_2004_FullO.pkl','wb')\n",
    "pkl.dump(graph.FullO_E,FullO_file)\n",
    "graph.dist.to_csv('../data/USA_vote_2004_dist.csv')"
   ]
  },
  {
   "cell_type": "code",
   "execution_count": 5,
   "id": "4d09a79d",
   "metadata": {},
   "outputs": [
    {
     "name": "stdout",
     "output_type": "stream",
     "text": [
      "start MST\n",
      "stop MST 132.42447018623352\n",
      "start Tree arch\n",
      "stop Tree arch 0.4080657958984375\n"
     ]
    }
   ],
   "source": [
    "MST = graph.find_MST_full_order_CL()#best_k_regions(k,min_regions,z_min,z_max,n_cut,sc)"
   ]
  },
  {
   "cell_type": "code",
   "execution_count": 6,
   "id": "cb70e142",
   "metadata": {},
   "outputs": [],
   "source": [
    "neighbors_file = open('../data/USA_vote_2004_neighbors.pkl','wb')\n",
    "pkl.dump(graph.MST.neighbors,neighbors_file)\n",
    "edges_file = open('../data/USA_vote_2004_edges.pkl','wb')\n",
    "pkl.dump(graph.MST.edges,edges_file)"
   ]
  },
  {
   "cell_type": "markdown",
   "id": "4178875a",
   "metadata": {},
   "source": [
    "## End of the run only once"
   ]
  },
  {
   "cell_type": "code",
   "execution_count": 2,
   "id": "df8680f7",
   "metadata": {},
   "outputs": [],
   "source": [
    "global_results = pd.read_pickle('../data/comparison_parameters.pkl')\n",
    "#global_results = pd.DataFrame(columns=['n_nodes','states','k','min_counties','z','sc','heterogeneity','size_regions','regions','n_columns','n_partitions','n_cuts','FiO edges','FuO edges','Sort FuO edges','MST','Tree arch','select regions','column generation'])"
   ]
  },
  {
   "cell_type": "code",
   "execution_count": 3,
   "id": "f77e22cd",
   "metadata": {},
   "outputs": [],
   "source": [
    "redcap_results = pd.read_pickle('../data/redcap_results.pkl')#pd.DataFrame(columns=['n_nodes','states','k','heterogeneity','size_regions','regions','time'])"
   ]
  },
  {
   "cell_type": "code",
   "execution_count": 4,
   "id": "bd69cd66",
   "metadata": {},
   "outputs": [],
   "source": [
    "USA_vote_2004 = pd.read_pickle('../data/USA_vote_2004.pkl')\n",
    "FullO_file = open(\"../data/USA_vote_2004_FullO.pkl\", \"rb\")\n",
    "FullO = pkl.load(FullO_file)\n",
    "dist = pd.read_csv('../data/USA_vote_2004_dist.csv',index_col=0)\n",
    "dist.columns = dist.columns.astype(int)\n",
    "neighbors_file = open('../data/USA_vote_2004_neighbors.pkl','rb')\n",
    "neighbors = pkl.load(neighbors_file)\n",
    "edges_file = open('../data/USA_vote_2004_edges.pkl','rb')\n",
    "edges = pkl.load(edges_file)"
   ]
  },
  {
   "cell_type": "code",
   "execution_count": 5,
   "id": "408a424e",
   "metadata": {},
   "outputs": [],
   "source": [
    "def evaluate(graph,k,min_counties,z,sc,output,n_nodes,states):\n",
    "    t1 = t.time()\n",
    "    graph.MST.find_regions(min_counties, z, sc, 0, 0)\n",
    "    t2 = t.time()\n",
    "    graph.times['column generation'] = t2-t1\n",
    "    h, x = graph.select_k_regions(k)\n",
    "    output.loc[len(output)] = [n_nodes,states,k,min_counties,z,sc,h,[len(r) for r in x],x,len(graph.MST.regions[0]),graph.MST.n_partitions,graph.MST.n_cuts,graph.times['FiO edges'],graph.times['FuO edges'],graph.times['Sort FuO edges'],graph.times['MST'],graph.times['Tree arch'],graph.times['select regions'],graph.times['column generation']]\n",
    "    graph.MST.clear()\n",
    "\n",
    "def comparate_param(states,n_regions,min_counties,z,sc,output,param):\n",
    "    graph, n_nodes = None, 0\n",
    "    if states =='all':\n",
    "        n_nodes = len(USA_vote_2004)\n",
    "        graph = Graph(USA_vote_2004.set_index('county_fips',drop=True),['bush_votes_perc'],full_order=(FullO,dist))\n",
    "        graph.MST = Tree(graph.vertex,neighbors,edges,0,None)\n",
    "        graph.times['FuO edges'],graph.times['Sort FuO edges'],graph.times['MST'],graph.times['Tree arch'] = 0.0, 0.0, 0.0, 0.0\n",
    "    else:\n",
    "        data = percentage_bush_2004(states)\n",
    "        n_nodes = len(data)\n",
    "        graph = Graph(data.set_index('county_fips',drop=True),['bush_votes_perc'])\n",
    "        MST = graph.find_MST_full_order_CL()\n",
    "    if param == 1:\n",
    "        for k in n_regions:\n",
    "            evaluate(graph,k,min_counties,z,sc,output,n_nodes,states)\n",
    "            print('n_regions = '+str(k)+ ' done')\n",
    "    elif param == 2:\n",
    "        for min_c in min_counties:\n",
    "            evaluate(graph,n_regions,min_c,z,sc,output,n_nodes,states)\n",
    "            print('min_counties = '+str(min_c)+ ' done')\n",
    "    elif param == 3:\n",
    "        for size_z in z:\n",
    "            evaluate(graph,n_regions,min_counties,size_z,sc,output,n_nodes,states)\n",
    "            print('z = '+str(size_z)+ ' done')\n",
    "    elif param == 4:\n",
    "        for sc_val in sc:\n",
    "            evaluate(graph,n_regions,min_counties,z,sc_val,output,n_nodes,states)\n",
    "            print('sc = '+str(sc_val)+ ' done')\n",
    "        \n",
    "    "
   ]
  },
  {
   "cell_type": "code",
   "execution_count": 6,
   "id": "bb584fca",
   "metadata": {},
   "outputs": [],
   "source": [
    "def evaluate_redcap(states,k,output):\n",
    "    data = percentage_bush_2004(states)\n",
    "    n_nodes = len(data)\n",
    "    h, regions, t = redcap(data,k,talk=True)\n",
    "    output.loc[len(output)] = [n_nodes,states,k,h,[len(regions[x]) for x in regions.keys()],regions,t]\n"
   ]
  },
  {
   "cell_type": "markdown",
   "id": "4a36d205",
   "metadata": {},
   "source": [
    "# Test with California State"
   ]
  },
  {
   "cell_type": "markdown",
   "id": "baeea97a",
   "metadata": {},
   "source": [
    "## k = 5"
   ]
  },
  {
   "cell_type": "code",
   "execution_count": 8,
   "id": "8785f4ad",
   "metadata": {},
   "outputs": [
    {
     "name": "stderr",
     "output_type": "stream",
     "text": [
      "C:\\Users\\ngolenvaux\\Anaconda3\\lib\\site-packages\\numpy\\core\\_asarray.py:102: VisibleDeprecationWarning: Creating an ndarray from ragged nested sequences (which is a list-or-tuple of lists-or-tuples-or ndarrays with different lengths or shapes) is deprecated. If you meant to do this, you must specify 'dtype=object' when creating the ndarray.\n",
      "  return array(a, dtype, copy=False, order=order)\n"
     ]
    },
    {
     "name": "stdout",
     "output_type": "stream",
     "text": [
      "min_counties = 1 done\n",
      "min_counties = 3 done\n",
      "min_counties = 5 done\n",
      "min_counties = 10 done\n"
     ]
    }
   ],
   "source": [
    "comparate_param(['CALIFORNIA'],5,[1,3,5,10],1,10,global_results,2)"
   ]
  },
  {
   "cell_type": "code",
   "execution_count": 10,
   "id": "7b987d7b",
   "metadata": {},
   "outputs": [
    {
     "name": "stdout",
     "output_type": "stream",
     "text": [
      "sc = 5 done\n",
      "sc = 10 done\n",
      "sc = 20 done\n",
      "sc = 40 done\n"
     ]
    }
   ],
   "source": [
    "comparate_param(['CALIFORNIA'],5,5,1,[5,10,20,40],global_results,4)"
   ]
  },
  {
   "cell_type": "code",
   "execution_count": 13,
   "id": "21827796",
   "metadata": {},
   "outputs": [
    {
     "name": "stdout",
     "output_type": "stream",
     "text": [
      "min_counties = 5 done\n",
      "min_counties = 10 done\n",
      "min_counties = 20 done\n"
     ]
    }
   ],
   "source": [
    "comparate_param(['CALIFORNIA'],5,[5,10,20],2,10,global_results,2)"
   ]
  },
  {
   "cell_type": "code",
   "execution_count": 16,
   "id": "5668e6ad",
   "metadata": {},
   "outputs": [
    {
     "name": "stdout",
     "output_type": "stream",
     "text": [
      "sc = 5 done\n",
      "sc = 10 done\n",
      "sc = 20 done\n",
      "sc = 40 done\n"
     ]
    }
   ],
   "source": [
    "comparate_param(['CALIFORNIA'],5,10,2,[5,10,20,40],global_results,4)"
   ]
  },
  {
   "cell_type": "code",
   "execution_count": 25,
   "id": "90e43b0b",
   "metadata": {},
   "outputs": [
    {
     "name": "stdout",
     "output_type": "stream",
     "text": [
      "sc = 10 done\n"
     ]
    }
   ],
   "source": [
    "comparate_param(['CALIFORNIA'],5,10,3,[10],global_results,4)"
   ]
  },
  {
   "cell_type": "code",
   "execution_count": 12,
   "id": "e4fca0a3",
   "metadata": {},
   "outputs": [
    {
     "name": "stdout",
     "output_type": "stream",
     "text": [
      "start redcap\n",
      "end redcap 0.008975744247436523\n",
      "redcap total heterogeneity :  0.22954071285603542\n"
     ]
    },
    {
     "name": "stderr",
     "output_type": "stream",
     "text": [
      "C:\\Users\\ngolenvaux\\Anaconda3\\lib\\site-packages\\numpy\\core\\_asarray.py:102: VisibleDeprecationWarning: Creating an ndarray from ragged nested sequences (which is a list-or-tuple of lists-or-tuples-or ndarrays with different lengths or shapes) is deprecated. If you meant to do this, you must specify 'dtype=object' when creating the ndarray.\n",
      "  return array(a, dtype, copy=False, order=order)\n"
     ]
    }
   ],
   "source": [
    "evaluate_redcap(['CALIFORNIA'],5,redcap_results)"
   ]
  },
  {
   "cell_type": "markdown",
   "id": "73883bc0",
   "metadata": {},
   "source": [
    "## k = 10"
   ]
  },
  {
   "cell_type": "code",
   "execution_count": null,
   "id": "aa682646",
   "metadata": {},
   "outputs": [],
   "source": [
    "comparate_param(['CALIFORNIA'],10,[3,5,10],1,10,global_results,2)"
   ]
  },
  {
   "cell_type": "code",
   "execution_count": 20,
   "id": "b7a2506b",
   "metadata": {},
   "outputs": [
    {
     "name": "stdout",
     "output_type": "stream",
     "text": [
      "sc = 3 done\n",
      "sc = 5 done\n",
      "sc = 10 done\n",
      "sc = 20 done\n"
     ]
    }
   ],
   "source": [
    "comparate_param(['CALIFORNIA'],10,5,1,[3,5,10,20],global_results,4)"
   ]
  },
  {
   "cell_type": "code",
   "execution_count": 22,
   "id": "f61fd0c4",
   "metadata": {},
   "outputs": [
    {
     "name": "stdout",
     "output_type": "stream",
     "text": [
      "min_counties = 3 done\n",
      "min_counties = 5 done\n",
      "min_counties = 10 done\n"
     ]
    }
   ],
   "source": [
    "comparate_param(['CALIFORNIA'],10,[3,5,10],2,10,global_results,2)"
   ]
  },
  {
   "cell_type": "code",
   "execution_count": 23,
   "id": "b712e2ce",
   "metadata": {},
   "outputs": [
    {
     "name": "stdout",
     "output_type": "stream",
     "text": [
      "sc = 3 done\n",
      "sc = 5 done\n",
      "sc = 10 done\n",
      "sc = 20 done\n"
     ]
    }
   ],
   "source": [
    "comparate_param(['CALIFORNIA'],10,5,2,[3,5,10,20],global_results,4)"
   ]
  },
  {
   "cell_type": "code",
   "execution_count": 13,
   "id": "743a64ef",
   "metadata": {},
   "outputs": [
    {
     "name": "stdout",
     "output_type": "stream",
     "text": [
      "start redcap\n",
      "end redcap 0.007010698318481445\n",
      "redcap total heterogeneity :  0.12115486320241955\n"
     ]
    }
   ],
   "source": [
    "evaluate_redcap(['CALIFORNIA'],10,redcap_results)"
   ]
  },
  {
   "cell_type": "markdown",
   "id": "d8489c6c",
   "metadata": {},
   "source": [
    "# Test with 5 westerns states"
   ]
  },
  {
   "cell_type": "code",
   "execution_count": 28,
   "id": "ab8f0356",
   "metadata": {},
   "outputs": [
    {
     "name": "stdout",
     "output_type": "stream",
     "text": [
      "start data preparation\n",
      "end data preparation 1.1240785121917725\n",
      "number of nodes: 193\n"
     ]
    }
   ],
   "source": [
    "print('start data preparation')\n",
    "t1 = t.time()\n",
    "USA_vote_2004 = percentage_bush_2004(['CALIFORNIA','WASHINGTON','OREGON','IDAHO','NEVADA'])\n",
    "t2 = t.time()\n",
    "print('end data preparation '+ str(t2-t1))\n",
    "print('number of nodes: '+ str(len(USA_vote_2004)))"
   ]
  },
  {
   "cell_type": "markdown",
   "id": "4b9e19b7",
   "metadata": {},
   "source": [
    "# k = 10"
   ]
  },
  {
   "cell_type": "code",
   "execution_count": 36,
   "id": "e799b444",
   "metadata": {},
   "outputs": [
    {
     "name": "stdout",
     "output_type": "stream",
     "text": [
      "min_counties = 10 done\n",
      "min_counties = 20 done\n",
      "min_counties = 40 done\n"
     ]
    }
   ],
   "source": [
    "comparate_param(['CALIFORNIA','WASHINGTON','OREGON','IDAHO','NEVADA'],10,[10,20,40],1,10,global_results,2)"
   ]
  },
  {
   "cell_type": "code",
   "execution_count": 38,
   "id": "90c218de",
   "metadata": {},
   "outputs": [
    {
     "name": "stdout",
     "output_type": "stream",
     "text": [
      "sc = 5 done\n",
      "sc = 10 done\n",
      "sc = 20 done\n"
     ]
    }
   ],
   "source": [
    "comparate_param(['CALIFORNIA','WASHINGTON','OREGON','IDAHO','NEVADA'],10,20,1,[5,10,20],global_results,4)"
   ]
  },
  {
   "cell_type": "code",
   "execution_count": 40,
   "id": "d8ee2a8a",
   "metadata": {},
   "outputs": [
    {
     "name": "stdout",
     "output_type": "stream",
     "text": [
      "min_counties = 20 done\n",
      "min_counties = 40 done\n"
     ]
    }
   ],
   "source": [
    "comparate_param(['CALIFORNIA','WASHINGTON','OREGON','IDAHO','NEVADA'],10,[20,40],2,10,global_results,2)"
   ]
  },
  {
   "cell_type": "code",
   "execution_count": 43,
   "id": "8a9f89c5",
   "metadata": {},
   "outputs": [
    {
     "name": "stdout",
     "output_type": "stream",
     "text": [
      "sc = 5 done\n",
      "sc = 20 done\n",
      "sc = 40 done\n"
     ]
    }
   ],
   "source": [
    "comparate_param(['CALIFORNIA','WASHINGTON','OREGON','IDAHO','NEVADA'],10,40,2,[5,20,40],global_results,4)"
   ]
  },
  {
   "cell_type": "code",
   "execution_count": 15,
   "id": "25d3b161",
   "metadata": {},
   "outputs": [
    {
     "name": "stdout",
     "output_type": "stream",
     "text": [
      "start redcap\n",
      "end redcap 0.02501845359802246\n",
      "redcap total heterogeneity :  0.6183821682399695\n"
     ]
    }
   ],
   "source": [
    "evaluate_redcap(['CALIFORNIA','WASHINGTON','OREGON','IDAHO','NEVADA'],10,redcap_results)"
   ]
  },
  {
   "cell_type": "markdown",
   "id": "1c319604",
   "metadata": {},
   "source": [
    "## k=5"
   ]
  },
  {
   "cell_type": "code",
   "execution_count": 46,
   "id": "94e2c3b4",
   "metadata": {},
   "outputs": [
    {
     "name": "stdout",
     "output_type": "stream",
     "text": [
      "min_counties = 20 done\n",
      "min_counties = 40 done\n",
      "min_counties = 80 done\n"
     ]
    }
   ],
   "source": [
    "comparate_param(['CALIFORNIA','WASHINGTON','OREGON','IDAHO','NEVADA'],5,[20,40,80],1,10,global_results,2)"
   ]
  },
  {
   "cell_type": "code",
   "execution_count": 48,
   "id": "fbb7fa96",
   "metadata": {},
   "outputs": [
    {
     "name": "stdout",
     "output_type": "stream",
     "text": [
      "sc = 5 done\n",
      "sc = 10 done\n",
      "sc = 20 done\n"
     ]
    }
   ],
   "source": [
    "comparate_param(['CALIFORNIA','WASHINGTON','OREGON','IDAHO','NEVADA'],5,40,1,[5,10,20],global_results,4)"
   ]
  },
  {
   "cell_type": "code",
   "execution_count": 49,
   "id": "c9358db9",
   "metadata": {},
   "outputs": [
    {
     "name": "stdout",
     "output_type": "stream",
     "text": [
      "min_counties = 40 done\n",
      "min_counties = 80 done\n"
     ]
    }
   ],
   "source": [
    "comparate_param(['CALIFORNIA','WASHINGTON','OREGON','IDAHO','NEVADA'],5,[40,80],2,10,global_results,2)"
   ]
  },
  {
   "cell_type": "code",
   "execution_count": 51,
   "id": "54aff0ee",
   "metadata": {},
   "outputs": [
    {
     "name": "stdout",
     "output_type": "stream",
     "text": [
      "sc = 5 done\n",
      "sc = 20 done\n",
      "sc = 40 done\n"
     ]
    }
   ],
   "source": [
    "comparate_param(['CALIFORNIA','WASHINGTON','OREGON','IDAHO','NEVADA'],5,80,2,[5,20,40],global_results,4)"
   ]
  },
  {
   "cell_type": "code",
   "execution_count": 16,
   "id": "a64bbf95",
   "metadata": {},
   "outputs": [
    {
     "name": "stdout",
     "output_type": "stream",
     "text": [
      "start redcap\n",
      "end redcap 0.02469635009765625\n",
      "redcap total heterogeneity :  1.3064570319460636\n"
     ]
    }
   ],
   "source": [
    "evaluate_redcap(['CALIFORNIA','WASHINGTON','OREGON','IDAHO','NEVADA'],5,redcap_results)"
   ]
  },
  {
   "cell_type": "markdown",
   "id": "8fb4df93",
   "metadata": {},
   "source": [
    "# Test with all US States"
   ]
  },
  {
   "cell_type": "markdown",
   "id": "914b4465",
   "metadata": {},
   "source": [
    "## k=10"
   ]
  },
  {
   "cell_type": "code",
   "execution_count": 23,
   "id": "998d3f1e",
   "metadata": {},
   "outputs": [
    {
     "name": "stderr",
     "output_type": "stream",
     "text": [
      "C:\\Users\\ngolenvaux\\Documents\\Doctorat\\Regionalization\\Regionalization_models\\src\\data.py:10: SettingWithCopyWarning: \n",
      "A value is trying to be set on a copy of a slice from a DataFrame.\n",
      "Try using .loc[row_indexer,col_indexer] = value instead\n",
      "\n",
      "See the caveats in the documentation: https://pandas.pydata.org/pandas-docs/stable/user_guide/indexing.html#returning-a-view-versus-a-copy\n",
      "  df_2004['bush_votes_perc'] = df_2004['candidatevotes'] / df_2004['totalvotes']\n"
     ]
    },
    {
     "name": "stdout",
     "output_type": "stream",
     "text": [
      "min_counties = 100 done\n",
      "min_counties = 300 done\n",
      "min_counties = 500 done\n"
     ]
    }
   ],
   "source": [
    "comparate_param('all',10,[100,300,500],1,50,global_results,2)"
   ]
  },
  {
   "cell_type": "code",
   "execution_count": 26,
   "id": "e859c27c",
   "metadata": {},
   "outputs": [
    {
     "name": "stderr",
     "output_type": "stream",
     "text": [
      "C:\\Users\\ngolenvaux\\Documents\\Doctorat\\Regionalization\\Regionalization_models\\src\\data.py:10: SettingWithCopyWarning: \n",
      "A value is trying to be set on a copy of a slice from a DataFrame.\n",
      "Try using .loc[row_indexer,col_indexer] = value instead\n",
      "\n",
      "See the caveats in the documentation: https://pandas.pydata.org/pandas-docs/stable/user_guide/indexing.html#returning-a-view-versus-a-copy\n",
      "  df_2004['bush_votes_perc'] = df_2004['candidatevotes'] / df_2004['totalvotes']\n"
     ]
    },
    {
     "name": "stdout",
     "output_type": "stream",
     "text": [
      "sc = 10 done\n",
      "sc = 30 done\n",
      "sc = 100 done\n"
     ]
    }
   ],
   "source": [
    "comparate_param('all',10,200,1,[10,30,100],global_results,4)"
   ]
  },
  {
   "cell_type": "code",
   "execution_count": 31,
   "id": "8c7d347d",
   "metadata": {},
   "outputs": [
    {
     "name": "stdout",
     "output_type": "stream",
     "text": [
      "min_counties = 1000 done\n"
     ]
    }
   ],
   "source": [
    "comparate_param('all',10,[1000],2,10,global_results,2)"
   ]
  },
  {
   "cell_type": "code",
   "execution_count": 9,
   "id": "0a30061b",
   "metadata": {},
   "outputs": [
    {
     "name": "stdout",
     "output_type": "stream",
     "text": [
      "sc = 2 done\n"
     ]
    }
   ],
   "source": [
    "comparate_param('all',10,400,[(0,4),(2,2)],[2],global_results,4)"
   ]
  },
  {
   "cell_type": "code",
   "execution_count": 11,
   "id": "ee87b9c4",
   "metadata": {},
   "outputs": [
    {
     "data": {
      "text/plain": [
       "3963"
      ]
     },
     "execution_count": 11,
     "metadata": {},
     "output_type": "execute_result"
    }
   ],
   "source": [
    "len(Tree.leaves)"
   ]
  },
  {
   "cell_type": "code",
   "execution_count": 15,
   "id": "30371c8f",
   "metadata": {},
   "outputs": [
    {
     "data": {
      "text/plain": [
       "0"
      ]
     },
     "execution_count": 15,
     "metadata": {},
     "output_type": "execute_result"
    }
   ],
   "source": [
    "len(Tree.regions[0])"
   ]
  },
  {
   "cell_type": "code",
   "execution_count": 11,
   "id": "4b156413",
   "metadata": {},
   "outputs": [],
   "source": [
    "Tree.regions = []\n",
    "Tree.n_cuts = 0\n",
    "Tree.n_partitions = 0\n",
    "Tree.he = []"
   ]
  },
  {
   "cell_type": "code",
   "execution_count": 24,
   "id": "99c6327c",
   "metadata": {},
   "outputs": [
    {
     "name": "stdout",
     "output_type": "stream",
     "text": [
      "start redcap\n",
      "end redcap 0.76481032371521\n",
      "redcap total heterogeneity :  21.53039473787628\n"
     ]
    }
   ],
   "source": [
    "evaluate_redcap('all',10,redcap_results)"
   ]
  },
  {
   "cell_type": "code",
   "execution_count": 12,
   "id": "5191f181",
   "metadata": {},
   "outputs": [
    {
     "data": {
      "text/html": [
       "<div>\n",
       "<style scoped>\n",
       "    .dataframe tbody tr th:only-of-type {\n",
       "        vertical-align: middle;\n",
       "    }\n",
       "\n",
       "    .dataframe tbody tr th {\n",
       "        vertical-align: top;\n",
       "    }\n",
       "\n",
       "    .dataframe thead th {\n",
       "        text-align: right;\n",
       "    }\n",
       "</style>\n",
       "<table border=\"1\" class=\"dataframe\">\n",
       "  <thead>\n",
       "    <tr style=\"text-align: right;\">\n",
       "      <th></th>\n",
       "      <th>n_nodes</th>\n",
       "      <th>states</th>\n",
       "      <th>k</th>\n",
       "      <th>min_counties</th>\n",
       "      <th>z</th>\n",
       "      <th>sc</th>\n",
       "      <th>heterogeneity</th>\n",
       "      <th>size_regions</th>\n",
       "      <th>regions</th>\n",
       "      <th>n_columns</th>\n",
       "      <th>n_partitions</th>\n",
       "      <th>n_cuts</th>\n",
       "      <th>FiO edges</th>\n",
       "      <th>FuO edges</th>\n",
       "      <th>Sort FuO edges</th>\n",
       "      <th>MST</th>\n",
       "      <th>Tree arch</th>\n",
       "      <th>select regions</th>\n",
       "      <th>column generation</th>\n",
       "    </tr>\n",
       "  </thead>\n",
       "  <tbody>\n",
       "    <tr>\n",
       "      <th>50</th>\n",
       "      <td>193</td>\n",
       "      <td>[CALIFORNIA, WASHINGTON, OREGON, IDAHO, NEVADA]</td>\n",
       "      <td>5</td>\n",
       "      <td>80</td>\n",
       "      <td>2</td>\n",
       "      <td>20</td>\n",
       "      <td>1.306457</td>\n",
       "      <td>[49, 50, 80, 6, 8]</td>\n",
       "      <td>[[16003, 41063, 41001, 53013, 53023, 53021, 53...</td>\n",
       "      <td>41</td>\n",
       "      <td>10</td>\n",
       "      <td>20</td>\n",
       "      <td>0.088343</td>\n",
       "      <td>6.652561</td>\n",
       "      <td>0.022336</td>\n",
       "      <td>0.920932</td>\n",
       "      <td>0.010211</td>\n",
       "      <td>0.130467</td>\n",
       "      <td>1.142926</td>\n",
       "    </tr>\n",
       "    <tr>\n",
       "      <th>51</th>\n",
       "      <td>193</td>\n",
       "      <td>[CALIFORNIA, WASHINGTON, OREGON, IDAHO, NEVADA]</td>\n",
       "      <td>5</td>\n",
       "      <td>80</td>\n",
       "      <td>2</td>\n",
       "      <td>40</td>\n",
       "      <td>1.306457</td>\n",
       "      <td>[49, 50, 80, 6, 8]</td>\n",
       "      <td>[[16003, 41063, 41001, 53013, 53023, 53021, 53...</td>\n",
       "      <td>41</td>\n",
       "      <td>10</td>\n",
       "      <td>20</td>\n",
       "      <td>0.088343</td>\n",
       "      <td>6.652561</td>\n",
       "      <td>0.022336</td>\n",
       "      <td>0.920932</td>\n",
       "      <td>0.010211</td>\n",
       "      <td>0.123629</td>\n",
       "      <td>1.564219</td>\n",
       "    </tr>\n",
       "    <tr>\n",
       "      <th>52</th>\n",
       "      <td>3083</td>\n",
       "      <td>all</td>\n",
       "      <td>10</td>\n",
       "      <td>100</td>\n",
       "      <td>1</td>\n",
       "      <td>50</td>\n",
       "      <td>21.530395</td>\n",
       "      <td>[398, 212, 71, 445, 1162, 88, 55, 11, 282, 359]</td>\n",
       "      <td>[[48325, 48013, 48255, 48175, 48391, 48409, 48...</td>\n",
       "      <td>263</td>\n",
       "      <td>131</td>\n",
       "      <td>131</td>\n",
       "      <td>1.469064</td>\n",
       "      <td>1636.840292</td>\n",
       "      <td>10.358184</td>\n",
       "      <td>116.588271</td>\n",
       "      <td>0.477663</td>\n",
       "      <td>2.858063</td>\n",
       "      <td>571.967105</td>\n",
       "    </tr>\n",
       "    <tr>\n",
       "      <th>53</th>\n",
       "      <td>3083</td>\n",
       "      <td>all</td>\n",
       "      <td>10</td>\n",
       "      <td>300</td>\n",
       "      <td>1</td>\n",
       "      <td>50</td>\n",
       "      <td>21.738180</td>\n",
       "      <td>[398, 283, 445, 1153, 9, 88, 55, 11, 282, 359]</td>\n",
       "      <td>[[48325, 48013, 48255, 48175, 48391, 48409, 48...</td>\n",
       "      <td>115</td>\n",
       "      <td>57</td>\n",
       "      <td>57</td>\n",
       "      <td>1.469064</td>\n",
       "      <td>1636.840292</td>\n",
       "      <td>10.358184</td>\n",
       "      <td>116.588271</td>\n",
       "      <td>0.477663</td>\n",
       "      <td>2.266970</td>\n",
       "      <td>542.948879</td>\n",
       "    </tr>\n",
       "    <tr>\n",
       "      <th>54</th>\n",
       "      <td>3083</td>\n",
       "      <td>all</td>\n",
       "      <td>10</td>\n",
       "      <td>500</td>\n",
       "      <td>1</td>\n",
       "      <td>50</td>\n",
       "      <td>21.738180</td>\n",
       "      <td>[398, 283, 445, 1153, 9, 88, 55, 11, 282, 359]</td>\n",
       "      <td>[[48325, 48013, 48255, 48175, 48391, 48409, 48...</td>\n",
       "      <td>63</td>\n",
       "      <td>31</td>\n",
       "      <td>31</td>\n",
       "      <td>1.469064</td>\n",
       "      <td>1636.840292</td>\n",
       "      <td>10.358184</td>\n",
       "      <td>116.588271</td>\n",
       "      <td>0.477663</td>\n",
       "      <td>1.759164</td>\n",
       "      <td>498.533915</td>\n",
       "    </tr>\n",
       "    <tr>\n",
       "      <th>55</th>\n",
       "      <td>3083</td>\n",
       "      <td>all</td>\n",
       "      <td>10</td>\n",
       "      <td>200</td>\n",
       "      <td>1</td>\n",
       "      <td>10</td>\n",
       "      <td>22.914511</td>\n",
       "      <td>[474, 55, 194, 592, 293, 359, 398, 147, 136, 435]</td>\n",
       "      <td>[[51113, 51047, 51061, 51177, 51179, 51099, 51...</td>\n",
       "      <td>61</td>\n",
       "      <td>30</td>\n",
       "      <td>30</td>\n",
       "      <td>1.410364</td>\n",
       "      <td>1752.552082</td>\n",
       "      <td>10.153550</td>\n",
       "      <td>116.603161</td>\n",
       "      <td>0.497046</td>\n",
       "      <td>1.081937</td>\n",
       "      <td>291.193209</td>\n",
       "    </tr>\n",
       "    <tr>\n",
       "      <th>56</th>\n",
       "      <td>3083</td>\n",
       "      <td>all</td>\n",
       "      <td>10</td>\n",
       "      <td>200</td>\n",
       "      <td>1</td>\n",
       "      <td>30</td>\n",
       "      <td>22.636286</td>\n",
       "      <td>[398, 283, 445, 681, 375, 55, 194, 11, 282, 359]</td>\n",
       "      <td>[[48325, 48013, 48255, 48175, 48391, 48409, 48...</td>\n",
       "      <td>99</td>\n",
       "      <td>49</td>\n",
       "      <td>49</td>\n",
       "      <td>1.410364</td>\n",
       "      <td>1752.552082</td>\n",
       "      <td>10.153550</td>\n",
       "      <td>116.603161</td>\n",
       "      <td>0.497046</td>\n",
       "      <td>1.380502</td>\n",
       "      <td>291.877214</td>\n",
       "    </tr>\n",
       "    <tr>\n",
       "      <th>57</th>\n",
       "      <td>3083</td>\n",
       "      <td>all</td>\n",
       "      <td>10</td>\n",
       "      <td>200</td>\n",
       "      <td>1</td>\n",
       "      <td>100</td>\n",
       "      <td>21.530395</td>\n",
       "      <td>[398, 212, 71, 445, 1162, 88, 55, 11, 282, 359]</td>\n",
       "      <td>[[48325, 48013, 48255, 48175, 48391, 48409, 48...</td>\n",
       "      <td>177</td>\n",
       "      <td>88</td>\n",
       "      <td>88</td>\n",
       "      <td>1.410364</td>\n",
       "      <td>1752.552082</td>\n",
       "      <td>10.153550</td>\n",
       "      <td>116.603161</td>\n",
       "      <td>0.497046</td>\n",
       "      <td>2.924498</td>\n",
       "      <td>719.866165</td>\n",
       "    </tr>\n",
       "    <tr>\n",
       "      <th>58</th>\n",
       "      <td>3083</td>\n",
       "      <td>all</td>\n",
       "      <td>10</td>\n",
       "      <td>1000</td>\n",
       "      <td>2</td>\n",
       "      <td>10</td>\n",
       "      <td>23.555772</td>\n",
       "      <td>[71, 18, 426, 164, 6, 42, 398, 1112, 194, 652]</td>\n",
       "      <td>[[53077, 53037, 53007, 53047, 53019, 53065, 53...</td>\n",
       "      <td>408660</td>\n",
       "      <td>102209</td>\n",
       "      <td>204420</td>\n",
       "      <td>1.420640</td>\n",
       "      <td>1617.541746</td>\n",
       "      <td>10.259073</td>\n",
       "      <td>138.109255</td>\n",
       "      <td>0.348486</td>\n",
       "      <td>2943.210090</td>\n",
       "      <td>703.047169</td>\n",
       "    </tr>\n",
       "    <tr>\n",
       "      <th>59</th>\n",
       "      <td>3083</td>\n",
       "      <td>all</td>\n",
       "      <td>10</td>\n",
       "      <td>1000</td>\n",
       "      <td>2</td>\n",
       "      <td>50</td>\n",
       "      <td>24.669719</td>\n",
       "      <td>[681, 103, 51, 9, 88, 445, 966, 652, 33, 55]</td>\n",
       "      <td>[[48035, 48425, 48221, 48367, 48497, 48337, 48...</td>\n",
       "      <td>1533</td>\n",
       "      <td>383</td>\n",
       "      <td>766</td>\n",
       "      <td>1.420351</td>\n",
       "      <td>1688.738044</td>\n",
       "      <td>10.355141</td>\n",
       "      <td>115.788785</td>\n",
       "      <td>0.422962</td>\n",
       "      <td>43.519545</td>\n",
       "      <td>8650.308966</td>\n",
       "    </tr>\n",
       "    <tr>\n",
       "      <th>60</th>\n",
       "      <td>3083</td>\n",
       "      <td>all</td>\n",
       "      <td>10</td>\n",
       "      <td>500</td>\n",
       "      <td>2</td>\n",
       "      <td>10</td>\n",
       "      <td>23.797965</td>\n",
       "      <td>[283, 51, 293, 307, 398, 445, 204, 640, 359, 103]</td>\n",
       "      <td>[[48463, 48271, 48465, 48443, 48043, 48377, 48...</td>\n",
       "      <td>541</td>\n",
       "      <td>135</td>\n",
       "      <td>270</td>\n",
       "      <td>1.968544</td>\n",
       "      <td>2524.204719</td>\n",
       "      <td>15.225795</td>\n",
       "      <td>199.730784</td>\n",
       "      <td>0.565223</td>\n",
       "      <td>14.813522</td>\n",
       "      <td>1742.754726</td>\n",
       "    </tr>\n",
       "    <tr>\n",
       "      <th>61</th>\n",
       "      <td>3083</td>\n",
       "      <td>all</td>\n",
       "      <td>10</td>\n",
       "      <td>500</td>\n",
       "      <td>2</td>\n",
       "      <td>15</td>\n",
       "      <td>23.502672</td>\n",
       "      <td>[398, 113, 359, 293, 283, 445, 731, 103, 51, 307]</td>\n",
       "      <td>[[48325, 48013, 48255, 48175, 48391, 48409, 48...</td>\n",
       "      <td>709</td>\n",
       "      <td>177</td>\n",
       "      <td>354</td>\n",
       "      <td>2.102832</td>\n",
       "      <td>2330.682467</td>\n",
       "      <td>12.953453</td>\n",
       "      <td>168.268785</td>\n",
       "      <td>0.512995</td>\n",
       "      <td>18.068428</td>\n",
       "      <td>1957.959541</td>\n",
       "    </tr>\n",
       "    <tr>\n",
       "      <th>62</th>\n",
       "      <td>3083</td>\n",
       "      <td>all</td>\n",
       "      <td>10</td>\n",
       "      <td>400</td>\n",
       "      <td>2</td>\n",
       "      <td>10</td>\n",
       "      <td>23.236806</td>\n",
       "      <td>[398, 194, 375, 293, 445, 283, 501, 180, 359, 55]</td>\n",
       "      <td>[[48325, 48013, 48255, 48175, 48391, 48409, 48...</td>\n",
       "      <td>1041</td>\n",
       "      <td>260</td>\n",
       "      <td>520</td>\n",
       "      <td>2.182734</td>\n",
       "      <td>2334.464770</td>\n",
       "      <td>13.083964</td>\n",
       "      <td>164.840186</td>\n",
       "      <td>0.511261</td>\n",
       "      <td>22.181513</td>\n",
       "      <td>1872.390843</td>\n",
       "    </tr>\n",
       "    <tr>\n",
       "      <th>63</th>\n",
       "      <td>3083</td>\n",
       "      <td>all</td>\n",
       "      <td>10</td>\n",
       "      <td>300</td>\n",
       "      <td>2</td>\n",
       "      <td>10</td>\n",
       "      <td>23.190106</td>\n",
       "      <td>[55, 194, 356, 3, 398, 283, 445, 681, 375, 293]</td>\n",
       "      <td>[[51139, 51079, 51171, 54031, 54027, 54057, 51...</td>\n",
       "      <td>2465</td>\n",
       "      <td>616</td>\n",
       "      <td>1232</td>\n",
       "      <td>2.067166</td>\n",
       "      <td>2379.380280</td>\n",
       "      <td>13.080873</td>\n",
       "      <td>165.545069</td>\n",
       "      <td>0.571948</td>\n",
       "      <td>41.375833</td>\n",
       "      <td>2244.149848</td>\n",
       "    </tr>\n",
       "    <tr>\n",
       "      <th>64</th>\n",
       "      <td>3083</td>\n",
       "      <td>all</td>\n",
       "      <td>10</td>\n",
       "      <td>400</td>\n",
       "      <td>[(0, 2)]</td>\n",
       "      <td>2</td>\n",
       "      <td>24.909589</td>\n",
       "      <td>[874, 8, 209, 201, 283, 465, 398, 194, 438, 13]</td>\n",
       "      <td>[[39029, 54029, 39151, 39133, 42125, 42059, 54...</td>\n",
       "      <td>1</td>\n",
       "      <td>153</td>\n",
       "      <td>306</td>\n",
       "      <td>1.613729</td>\n",
       "      <td>0.000000</td>\n",
       "      <td>0.000000</td>\n",
       "      <td>0.000000</td>\n",
       "      <td>0.000000</td>\n",
       "      <td>11.086292</td>\n",
       "      <td>1073.435444</td>\n",
       "    </tr>\n",
       "    <tr>\n",
       "      <th>65</th>\n",
       "      <td>3083</td>\n",
       "      <td>all</td>\n",
       "      <td>10</td>\n",
       "      <td>400</td>\n",
       "      <td>[(0, 2)]</td>\n",
       "      <td>3</td>\n",
       "      <td>25.851187</td>\n",
       "      <td>[217, 1102, 465, 398, 283, 33, 293, 248, 21, 23]</td>\n",
       "      <td>[[18055, 18083, 17033, 17023, 17045, 17035, 17...</td>\n",
       "      <td>1</td>\n",
       "      <td>245</td>\n",
       "      <td>490</td>\n",
       "      <td>1.613729</td>\n",
       "      <td>0.000000</td>\n",
       "      <td>0.000000</td>\n",
       "      <td>0.000000</td>\n",
       "      <td>0.000000</td>\n",
       "      <td>19.130481</td>\n",
       "      <td>1686.966890</td>\n",
       "    </tr>\n",
       "    <tr>\n",
       "      <th>66</th>\n",
       "      <td>3083</td>\n",
       "      <td>all</td>\n",
       "      <td>10</td>\n",
       "      <td>400</td>\n",
       "      <td>[(0, 4), (2, 2)]</td>\n",
       "      <td>2</td>\n",
       "      <td>27.083106</td>\n",
       "      <td>[290, 811, 283, 51, 282, 398, 269, 23, 480, 196]</td>\n",
       "      <td>[[54001, 54093, 54083, 54075, 54025, 51005, 54...</td>\n",
       "      <td>1</td>\n",
       "      <td>910</td>\n",
       "      <td>1838</td>\n",
       "      <td>1.612324</td>\n",
       "      <td>0.000000</td>\n",
       "      <td>0.000000</td>\n",
       "      <td>0.000000</td>\n",
       "      <td>0.000000</td>\n",
       "      <td>65.989466</td>\n",
       "      <td>6088.034530</td>\n",
       "    </tr>\n",
       "  </tbody>\n",
       "</table>\n",
       "</div>"
      ],
      "text/plain": [
       "   n_nodes                                           states   k min_counties  \\\n",
       "50     193  [CALIFORNIA, WASHINGTON, OREGON, IDAHO, NEVADA]   5           80   \n",
       "51     193  [CALIFORNIA, WASHINGTON, OREGON, IDAHO, NEVADA]   5           80   \n",
       "52    3083                                              all  10          100   \n",
       "53    3083                                              all  10          300   \n",
       "54    3083                                              all  10          500   \n",
       "55    3083                                              all  10          200   \n",
       "56    3083                                              all  10          200   \n",
       "57    3083                                              all  10          200   \n",
       "58    3083                                              all  10         1000   \n",
       "59    3083                                              all  10         1000   \n",
       "60    3083                                              all  10          500   \n",
       "61    3083                                              all  10          500   \n",
       "62    3083                                              all  10          400   \n",
       "63    3083                                              all  10          300   \n",
       "64    3083                                              all  10          400   \n",
       "65    3083                                              all  10          400   \n",
       "66    3083                                              all  10          400   \n",
       "\n",
       "                   z   sc  heterogeneity  \\\n",
       "50                 2   20       1.306457   \n",
       "51                 2   40       1.306457   \n",
       "52                 1   50      21.530395   \n",
       "53                 1   50      21.738180   \n",
       "54                 1   50      21.738180   \n",
       "55                 1   10      22.914511   \n",
       "56                 1   30      22.636286   \n",
       "57                 1  100      21.530395   \n",
       "58                 2   10      23.555772   \n",
       "59                 2   50      24.669719   \n",
       "60                 2   10      23.797965   \n",
       "61                 2   15      23.502672   \n",
       "62                 2   10      23.236806   \n",
       "63                 2   10      23.190106   \n",
       "64          [(0, 2)]    2      24.909589   \n",
       "65          [(0, 2)]    3      25.851187   \n",
       "66  [(0, 4), (2, 2)]    2      27.083106   \n",
       "\n",
       "                                         size_regions  \\\n",
       "50                                 [49, 50, 80, 6, 8]   \n",
       "51                                 [49, 50, 80, 6, 8]   \n",
       "52    [398, 212, 71, 445, 1162, 88, 55, 11, 282, 359]   \n",
       "53     [398, 283, 445, 1153, 9, 88, 55, 11, 282, 359]   \n",
       "54     [398, 283, 445, 1153, 9, 88, 55, 11, 282, 359]   \n",
       "55  [474, 55, 194, 592, 293, 359, 398, 147, 136, 435]   \n",
       "56   [398, 283, 445, 681, 375, 55, 194, 11, 282, 359]   \n",
       "57    [398, 212, 71, 445, 1162, 88, 55, 11, 282, 359]   \n",
       "58     [71, 18, 426, 164, 6, 42, 398, 1112, 194, 652]   \n",
       "59       [681, 103, 51, 9, 88, 445, 966, 652, 33, 55]   \n",
       "60  [283, 51, 293, 307, 398, 445, 204, 640, 359, 103]   \n",
       "61  [398, 113, 359, 293, 283, 445, 731, 103, 51, 307]   \n",
       "62  [398, 194, 375, 293, 445, 283, 501, 180, 359, 55]   \n",
       "63    [55, 194, 356, 3, 398, 283, 445, 681, 375, 293]   \n",
       "64    [874, 8, 209, 201, 283, 465, 398, 194, 438, 13]   \n",
       "65   [217, 1102, 465, 398, 283, 33, 293, 248, 21, 23]   \n",
       "66   [290, 811, 283, 51, 282, 398, 269, 23, 480, 196]   \n",
       "\n",
       "                                              regions n_columns n_partitions  \\\n",
       "50  [[16003, 41063, 41001, 53013, 53023, 53021, 53...        41           10   \n",
       "51  [[16003, 41063, 41001, 53013, 53023, 53021, 53...        41           10   \n",
       "52  [[48325, 48013, 48255, 48175, 48391, 48409, 48...       263          131   \n",
       "53  [[48325, 48013, 48255, 48175, 48391, 48409, 48...       115           57   \n",
       "54  [[48325, 48013, 48255, 48175, 48391, 48409, 48...        63           31   \n",
       "55  [[51113, 51047, 51061, 51177, 51179, 51099, 51...        61           30   \n",
       "56  [[48325, 48013, 48255, 48175, 48391, 48409, 48...        99           49   \n",
       "57  [[48325, 48013, 48255, 48175, 48391, 48409, 48...       177           88   \n",
       "58  [[53077, 53037, 53007, 53047, 53019, 53065, 53...    408660       102209   \n",
       "59  [[48035, 48425, 48221, 48367, 48497, 48337, 48...      1533          383   \n",
       "60  [[48463, 48271, 48465, 48443, 48043, 48377, 48...       541          135   \n",
       "61  [[48325, 48013, 48255, 48175, 48391, 48409, 48...       709          177   \n",
       "62  [[48325, 48013, 48255, 48175, 48391, 48409, 48...      1041          260   \n",
       "63  [[51139, 51079, 51171, 54031, 54027, 54057, 51...      2465          616   \n",
       "64  [[39029, 54029, 39151, 39133, 42125, 42059, 54...         1          153   \n",
       "65  [[18055, 18083, 17033, 17023, 17045, 17035, 17...         1          245   \n",
       "66  [[54001, 54093, 54083, 54075, 54025, 51005, 54...         1          910   \n",
       "\n",
       "    n_cuts  FiO edges    FuO edges  Sort FuO edges         MST  Tree arch  \\\n",
       "50      20   0.088343     6.652561        0.022336    0.920932   0.010211   \n",
       "51      20   0.088343     6.652561        0.022336    0.920932   0.010211   \n",
       "52     131   1.469064  1636.840292       10.358184  116.588271   0.477663   \n",
       "53      57   1.469064  1636.840292       10.358184  116.588271   0.477663   \n",
       "54      31   1.469064  1636.840292       10.358184  116.588271   0.477663   \n",
       "55      30   1.410364  1752.552082       10.153550  116.603161   0.497046   \n",
       "56      49   1.410364  1752.552082       10.153550  116.603161   0.497046   \n",
       "57      88   1.410364  1752.552082       10.153550  116.603161   0.497046   \n",
       "58  204420   1.420640  1617.541746       10.259073  138.109255   0.348486   \n",
       "59     766   1.420351  1688.738044       10.355141  115.788785   0.422962   \n",
       "60     270   1.968544  2524.204719       15.225795  199.730784   0.565223   \n",
       "61     354   2.102832  2330.682467       12.953453  168.268785   0.512995   \n",
       "62     520   2.182734  2334.464770       13.083964  164.840186   0.511261   \n",
       "63    1232   2.067166  2379.380280       13.080873  165.545069   0.571948   \n",
       "64     306   1.613729     0.000000        0.000000    0.000000   0.000000   \n",
       "65     490   1.613729     0.000000        0.000000    0.000000   0.000000   \n",
       "66    1838   1.612324     0.000000        0.000000    0.000000   0.000000   \n",
       "\n",
       "    select regions  column generation  \n",
       "50        0.130467           1.142926  \n",
       "51        0.123629           1.564219  \n",
       "52        2.858063         571.967105  \n",
       "53        2.266970         542.948879  \n",
       "54        1.759164         498.533915  \n",
       "55        1.081937         291.193209  \n",
       "56        1.380502         291.877214  \n",
       "57        2.924498         719.866165  \n",
       "58     2943.210090         703.047169  \n",
       "59       43.519545        8650.308966  \n",
       "60       14.813522        1742.754726  \n",
       "61       18.068428        1957.959541  \n",
       "62       22.181513        1872.390843  \n",
       "63       41.375833        2244.149848  \n",
       "64       11.086292        1073.435444  \n",
       "65       19.130481        1686.966890  \n",
       "66       65.989466        6088.034530  "
      ]
     },
     "execution_count": 12,
     "metadata": {},
     "output_type": "execute_result"
    }
   ],
   "source": [
    "global_results.loc[50:]"
   ]
  },
  {
   "cell_type": "code",
   "execution_count": null,
   "id": "985d5a2b",
   "metadata": {},
   "outputs": [],
   "source": [
    "redcap_results"
   ]
  },
  {
   "cell_type": "code",
   "execution_count": 14,
   "id": "fa1f0616",
   "metadata": {},
   "outputs": [],
   "source": [
    "global_results.to_pickle('../data/comparison_parameters.pkl')"
   ]
  },
  {
   "cell_type": "code",
   "execution_count": 17,
   "id": "eab1300d",
   "metadata": {},
   "outputs": [],
   "source": [
    "redcap_results.to_pickle('../data/redcap_results.pkl')"
   ]
  },
  {
   "cell_type": "markdown",
   "id": "3f83786d",
   "metadata": {},
   "source": [
    "Other"
   ]
  },
  {
   "cell_type": "code",
   "execution_count": 30,
   "id": "2d0cb42e",
   "metadata": {},
   "outputs": [],
   "source": [
    "USA_vote_2004 = pd.read_pickle('../data/USA_vote_2004.pkl')\n",
    "FullO_file = open(\"../data/USA_vote_2004_FullO.pkl\", \"rb\")\n",
    "FullO = pkl.load(FullO_file)\n",
    "dist = pd.read_csv('../data/USA_vote_2004_dist.csv',index_col=0)\n",
    "dist.columns = dist.columns.astype(int)\n",
    "neighbors_file = open('../data/USA_vote_2004_neighbors.pkl','rb')\n",
    "neighbors = pkl.load(neighbors_file)\n",
    "edges_file = open('../data/USA_vote_2004_edges.pkl','rb')\n",
    "edges = pkl.load(edges_file)"
   ]
  },
  {
   "cell_type": "code",
   "execution_count": 31,
   "id": "5faccf1f",
   "metadata": {},
   "outputs": [
    {
     "name": "stdout",
     "output_type": "stream",
     "text": [
      "start first_order\n",
      "end first_order 2.020354986190796\n"
     ]
    }
   ],
   "source": [
    "graph = Graph(USA_vote_2004.set_index('county_fips',drop=True),['bush_votes_perc'],full_order=(FullO,dist))"
   ]
  },
  {
   "cell_type": "code",
   "execution_count": 33,
   "id": "b4aea0e8",
   "metadata": {},
   "outputs": [
    {
     "name": "stdout",
     "output_type": "stream",
     "text": [
      "start Tree arch\n",
      "stop Tree arch 0.11601805686950684\n"
     ]
    }
   ],
   "source": [
    "graph.MST = Tree(graph.vertex,neighbors,edges,0,None)\n",
    "graph.MST.h = graph.MST.heterogeneity(graph.vertex)"
   ]
  },
  {
   "cell_type": "code",
   "execution_count": 4,
   "id": "a608ef9e",
   "metadata": {},
   "outputs": [],
   "source": [
    "k=10\n",
    "min_regions= 300\n",
    "z_min, z_max = 2, 2\n",
    "n_cut = 1\n",
    "sc = 5"
   ]
  },
  {
   "cell_type": "code",
   "execution_count": 35,
   "id": "de090712",
   "metadata": {},
   "outputs": [
    {
     "name": "stdout",
     "output_type": "stream",
     "text": [
      "start finding regions\n",
      "end finding regions 244.71743035316467\n"
     ]
    }
   ],
   "source": [
    "print('start finding regions')\n",
    "t1 = t.time()\n",
    "graph.MST.find_regions(min_regions, z_min, z_max, n_cut, sc)\n",
    "t2 = t.time()\n",
    "print('end finding regions ' + str(t2 - t1))"
   ]
  },
  {
   "cell_type": "code",
   "execution_count": 36,
   "id": "529ece61",
   "metadata": {},
   "outputs": [
    {
     "name": "stdout",
     "output_type": "stream",
     "text": [
      "start selecting regions\n",
      "Academic license - for non-commercial use only - expires 2023-01-28\n",
      "Using license file C:\\Users\\ngolenvaux\\gurobi.lic\n",
      "Gurobi Optimizer version 9.1.2 build v9.1.2rc0 (win64)\n",
      "Thread count: 4 physical cores, 8 logical processors, using up to 8 threads\n",
      "Optimize a model with 3084 rows, 33 columns and 16520 nonzeros\n",
      "Model fingerprint: 0xc13c0a5d\n",
      "Variable types: 0 continuous, 33 integer (33 binary)\n",
      "Coefficient statistics:\n",
      "  Matrix range     [1e+00, 1e+00]\n",
      "  Objective range  [8e-03, 5e+01]\n",
      "  Bounds range     [1e+00, 1e+00]\n",
      "  RHS range        [1e+00, 1e+01]\n",
      "Presolve removed 3076 rows and 14 columns\n",
      "Presolve time: 0.01s\n",
      "Presolved: 8 rows, 19 columns, 44 nonzeros\n",
      "Variable types: 0 continuous, 19 integer (19 binary)\n",
      "Found heuristic solution: objective 25.6809269\n",
      "Found heuristic solution: objective 25.4645704\n",
      "\n",
      "Root relaxation: objective 2.533079e+01, 8 iterations, 0.00 seconds\n",
      "\n",
      "    Nodes    |    Current Node    |     Objective Bounds      |     Work\n",
      " Expl Unexpl |  Obj  Depth IntInf | Incumbent    BestBd   Gap | It/Node Time\n",
      "\n",
      "*    0     0               0      25.3307868   25.33079  0.00%     -    0s\n",
      "\n",
      "Explored 0 nodes (8 simplex iterations) in 0.04 seconds\n",
      "Thread count was 8 (of 8 available processors)\n",
      "\n",
      "Solution count 3: 25.3308 25.4646 25.6809 \n",
      "\n",
      "Optimal solution found (tolerance 1.00e-04)\n",
      "Best objective 2.533078679139e+01, best bound 2.533078679139e+01, gap 0.0000%\n",
      "end selecting regions 1.024961233139038\n"
     ]
    }
   ],
   "source": [
    "res = graph.select_k_regions(k)"
   ]
  },
  {
   "cell_type": "code",
   "execution_count": 41,
   "id": "deb0e50b",
   "metadata": {},
   "outputs": [
    {
     "name": "stdout",
     "output_type": "stream",
     "text": [
      "start redcap\n",
      "end redcap 0.7801389694213867\n",
      "redcap total heterogeneity :  21.53039473787621\n"
     ]
    }
   ],
   "source": [
    "print('start redcap')\n",
    "t1 = t.time()\n",
    "votes_2004 = pg.open(USA_vote_2004)\n",
    "w = pg.queen_weights(votes_2004)\n",
    "res_redcap = pg.redcap(k,w,USA_vote_2004[['bush_votes_perc']],\"fullorder-completelinkage\")\n",
    "t2 = t.time()\n",
    "print('end redcap '+ str(t2-t1))\n",
    "clusters_r = {}\n",
    "for i, c in enumerate(res_redcap['Clusters']):\n",
    "    if c in clusters_r:\n",
    "        clusters_r[c] += [USA_vote_2004.loc[i,'FIPS']]\n",
    "    else:\n",
    "        clusters_r[c] = [USA_vote_2004.loc[i, 'FIPS']]\n",
    "h_r = [graph.MST.heterogeneity(clusters_r[i]) for i in clusters_r.keys()]\n",
    "print('redcap total heterogeneity : ', sum(h_r))"
   ]
  },
  {
   "cell_type": "code",
   "execution_count": 52,
   "id": "9bb9b2b9",
   "metadata": {},
   "outputs": [
    {
     "data": {
      "text/plain": [
       "3083"
      ]
     },
     "execution_count": 52,
     "metadata": {},
     "output_type": "execute_result"
    }
   ],
   "source": [
    "len(neighbors)"
   ]
  },
  {
   "cell_type": "code",
   "execution_count": 21,
   "id": "eaa25a8e",
   "metadata": {},
   "outputs": [
    {
     "data": {
      "text/plain": [
       "Int64Index([27077, 53019, 53065, 53047, 53051, 16021, 30053, 30029, 30035,\n",
       "            30101,\n",
       "            ...\n",
       "            51175, 51083, 51163, 51161, 55083,  4012, 35006, 51199, 51153,\n",
       "            30031],\n",
       "           dtype='int64', length=3083)"
      ]
     },
     "execution_count": 21,
     "metadata": {},
     "output_type": "execute_result"
    }
   ],
   "source": [
    "dist.columns"
   ]
  },
  {
   "cell_type": "code",
   "execution_count": 20,
   "id": "5f9ccfb5",
   "metadata": {},
   "outputs": [],
   "source": [
    "dist.columns = dist.columns.astype(int)"
   ]
  },
  {
   "cell_type": "code",
   "execution_count": null,
   "id": "39ea8814",
   "metadata": {},
   "outputs": [],
   "source": []
  }
 ],
 "metadata": {
  "kernelspec": {
   "display_name": "Python 3 (ipykernel)",
   "language": "python",
   "name": "python3"
  },
  "language_info": {
   "codemirror_mode": {
    "name": "ipython",
    "version": 3
   },
   "file_extension": ".py",
   "mimetype": "text/x-python",
   "name": "python",
   "nbconvert_exporter": "python",
   "pygments_lexer": "ipython3",
   "version": "3.8.11"
  }
 },
 "nbformat": 4,
 "nbformat_minor": 5
}
